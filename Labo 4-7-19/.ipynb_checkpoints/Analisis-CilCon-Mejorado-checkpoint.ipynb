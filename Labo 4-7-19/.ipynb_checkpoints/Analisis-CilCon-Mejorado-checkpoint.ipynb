{
 "cells": [
  {
   "cell_type": "code",
   "execution_count": 1,
   "metadata": {},
   "outputs": [],
   "source": [
    "import matplotlib.pylab as plt\n",
    "import numpy as np\n",
    "from scipy import stats\n",
    "import csv\n",
    "from scipy import signal\n",
    "import os.path \n",
    "from os import listdir\n",
    "from os.path import isfile, join\n",
    "from scipy.signal import savgol_filter"
   ]
  },
  {
   "cell_type": "code",
   "execution_count": 2,
   "metadata": {},
   "outputs": [],
   "source": [
    "#Funcion que hace una lista de los archivos de una carpeta\n",
    "def ls(ruta = '.'):\n",
    "    return [arch for arch in listdir(ruta) if isfile(join(ruta, arch))]\n",
    "#correr ls('.')"
   ]
  },
  {
   "cell_type": "code",
   "execution_count": 3,
   "metadata": {},
   "outputs": [],
   "source": [
    "lista_archivo = ls('.')"
   ]
  },
  {
   "cell_type": "code",
   "execution_count": 4,
   "metadata": {},
   "outputs": [],
   "source": [
    "def picosy(t,ym,nprc):\n",
    "    #Cuentas para hallar la velocidad del Ym\n",
    "    \n",
    "    #resto recta\n",
    "    gradient, intercept, r_value, p_value, std_err = stats.linregress(t,ym)\n",
    "    nuevo = []\n",
    "    for i,j in zip(t,ym):\n",
    "        nuevo.append(j-gradient*i-intercept)\n",
    "    #filtro\n",
    "    nuevo2 = savgol_filter(nuevo, 51, 3)\n",
    "    \n",
    "    peakind = signal.find_peaks_cwt(nuevo2, np.arange(1,10),noise_perc=nprc)\n",
    "    tpicos=[]\n",
    "    ypicos=[]\n",
    "    for j in peakind:\n",
    "        tpicos.append(t[j])\n",
    "        ypicos.append(ym[j])\n",
    "    \n",
    "    yperiod = []\n",
    "    for i in range(len(tpicos[tpicos.index(max(tpicos)):-1])):\n",
    "        yperiod.append(tpicos[tpicos.index(max(tpicos))+i+1]-tpicos[tpicos.index(max(tpicos))+i])\n",
    "    return tpicos, ypicos, np.mean(yperiod)"
   ]
  },
  {
   "cell_type": "code",
   "execution_count": 5,
   "metadata": {},
   "outputs": [],
   "source": [
    "def picosang(t,Ang,nprc):\n",
    "    #filtro\n",
    "    nuevo = savgol_filter(Ang, 51, 3)\n",
    "    #busco picos\n",
    "    peakind_Ang = signal.find_peaks_cwt(nuevo, np.arange(1,10),noise_perc=nprc)\n",
    "    \n",
    "    Ang_tpicos=[]\n",
    "    Ang_picos=[]\n",
    "    for j in peakind_Ang:\n",
    "        Ang_tpicos.append(t[j])\n",
    "        Ang_picos.append(Ang[j])\n",
    "\n",
    "    Periodo_Ang = []\n",
    "    for i in range(len(Ang_tpicos[Ang_tpicos.index(max(Ang_tpicos)):-1])-2):\n",
    "        Periodo_Ang.append(Ang_tpicos[Ang_tpicos.index(max(Ang_tpicos))+i+1]-Ang_tpicos[Ang_tpicos.index(max(Ang_tpicos))+i])\n",
    "    return Ang_tpicos, Ang_picos, np.mean(Periodo_Ang)"
   ]
  },
  {
   "cell_type": "code",
   "execution_count": 6,
   "metadata": {},
   "outputs": [],
   "source": [
    "def analisis_de_cilindros(lista_archivo,archivo,fps,cosa):\n",
    "    \n",
    "    with open(archivo, 'rt') as f:\n",
    "        reader = csv.reader(f)\n",
    "        data = list(reader)\n",
    "        for row in reader:\n",
    "            print(row)\n",
    "    \n",
    "    a, b, n = cosa[0], cosa[1], cosa[2]\n",
    "    \n",
    "    Lt, Lc, Dc, DM, Dm = float(archivo[9:11]+'.'+archivo[12:13]), float(archivo[19:21]+'.'+archivo[22:23]), float(archivo[27:28]+'.'+archivo[29:31]), float(archivo[34:35]+'.'+archivo[36:38]), float(archivo[41:42]+'.'+archivo[43:45])\n",
    "\n",
    "    tiempo = []\n",
    "    Xm = []\n",
    "    Ym = []\n",
    "    Ang = []\n",
    "    for i in data[1:]:\n",
    "        tiempo.append(float(i[0])/fps)\n",
    "        Xm.append(float(i[1]))\n",
    "        Ym.append(float(i[2]))\n",
    "        Ang.append(float(i[5]))\n",
    "              \n",
    "    #Correccion\n",
    "    tiempo = tiempo[a:b] \n",
    "    Xm = Xm[a:b]\n",
    "    Ym = Ym[a:b]\n",
    "    Ang = Ang[a:b]\n",
    "    \n",
    "    #Calculo de la velocidad de sedimentacion del cilindro al descender verticalmente por la celda (vel de x centro de masa)          \n",
    "    gradient, intercept, r_value, p_value, std_err = stats.linregress(tiempo,Xm)    \n",
    "\n",
    "    tpicos, ypicos, Periodo_de_Y = picosy(tiempo,Ym,10)\n",
    "\n",
    "    Ang_tpicos, Ang_picos, T_Ang = picosang(tiempo,Ang,10)\n",
    "    \n",
    "    plt.figure(lista_archivo.index(archivo),figsize=(15,5))\n",
    "    plt.subplot(1,3,1)\n",
    "    plt.plot(tiempo,Ym,label = 'L = '+str(Lc)+', D = '+str(Dc))\n",
    "    plt.plot(tpicos[tpicos.index(max(tpicos))-n:-1],ypicos[tpicos.index(max(tpicos))-n:-1],'r*')\n",
    "    plt.grid(b=True, which='major')\n",
    "    plt.subplot(1,3,2)\n",
    "    plt.plot(tiempo,Ang,label = 'L = '+str(Lc)+', D = '+str(Dc))\n",
    "    plt.plot(Ang_tpicos[Ang_tpicos.index(max(Ang_tpicos))-n:-1],Ang_picos[Ang_tpicos.index(max(Ang_tpicos))-n:-1],'r*')\n",
    "    plt.grid(b=True, which='major')\n",
    "    plt.subplot(1,3,3)\n",
    "    plt.plot(tiempo,Xm,label = 'L = '+str(Lc)+', D = '+str(Dc))\n",
    "    plt.grid(b=True, which='major')\n",
    "    plt.legend()\n",
    "    \n",
    "    #ERRORES\n",
    "    #tiempo\n",
    "#     errT = 1/fps\n",
    "    \n",
    "#     T4 = 0\n",
    "#     T12 = 0\n",
    "#     for i in yperiod:\n",
    "#         T4 = i**(-4)+T4\n",
    "#     for i in range(len(yperiod)-1):\n",
    "#         T12 = -2/((yperiod[i]*yperiod[i+1])**2) + T12\n",
    "#     errfy = (1/fps)*np.sqrt((T4+T12)/len(yperiod)) \n",
    "    \n",
    "#     T4 = 0\n",
    "#     T12 = 0\n",
    "#     for i in Periodo_Ang:\n",
    "#         T4 = i**(-4)+T4\n",
    "#     for i in range(len(Periodo_Ang)-1):\n",
    "#         T12 = -2/(Periodo_Ang[i]*Periodo_Ang[i+1]) + T12\n",
    "#     errfa = (1/fps)*np.sqrt((T4+T12)/len(Periodo_Ang)) \n",
    "    \n",
    "    return Lc, Dc, gradient, Periodo_de_Y, T_Ang  \n",
    "#     return L, D, gradient, std_err, Periodo_de_Y, errfy, T_Ang, errfa      "
   ]
  },
  {
   "cell_type": "code",
   "execution_count": 7,
   "metadata": {},
   "outputs": [
    {
     "ename": "ValueError",
     "evalue": "could not convert string to float: 'Ci.C'",
     "output_type": "error",
     "traceback": [
      "\u001b[1;31m---------------------------------------------------------------------------\u001b[0m",
      "\u001b[1;31mValueError\u001b[0m                                Traceback (most recent call last)",
      "\u001b[1;32m<ipython-input-7-4cf1b22a7b7e>\u001b[0m in \u001b[0;36m<module>\u001b[1;34m()\u001b[0m\n\u001b[0;32m      1\u001b[0m \u001b[1;32mfor\u001b[0m \u001b[0mi\u001b[0m \u001b[1;32min\u001b[0m \u001b[0mlista_archivo\u001b[0m\u001b[1;33m[\u001b[0m\u001b[1;33m:\u001b[0m\u001b[1;33m-\u001b[0m\u001b[1;36m1\u001b[0m\u001b[1;33m]\u001b[0m\u001b[1;33m:\u001b[0m\u001b[1;33m\u001b[0m\u001b[0m\n\u001b[1;32m----> 2\u001b[1;33m     \u001b[0mL\u001b[0m\u001b[1;33m,\u001b[0m \u001b[0mD\u001b[0m\u001b[1;33m,\u001b[0m \u001b[0mVcm\u001b[0m\u001b[1;33m,\u001b[0m \u001b[0mTy\u001b[0m\u001b[1;33m,\u001b[0m \u001b[0mTAng\u001b[0m \u001b[1;33m=\u001b[0m \u001b[0manalisis_de_cilindros\u001b[0m\u001b[1;33m(\u001b[0m\u001b[0mlista_archivo\u001b[0m\u001b[1;33m,\u001b[0m\u001b[0mi\u001b[0m\u001b[1;33m,\u001b[0m\u001b[1;36m49.9\u001b[0m\u001b[1;33m,\u001b[0m\u001b[1;33m[\u001b[0m\u001b[1;36m0\u001b[0m\u001b[1;33m,\u001b[0m\u001b[1;36m300\u001b[0m\u001b[1;33m,\u001b[0m\u001b[1;36m12\u001b[0m\u001b[1;33m]\u001b[0m\u001b[1;33m)\u001b[0m\u001b[1;33m\u001b[0m\u001b[0m\n\u001b[0m",
      "\u001b[1;32m<ipython-input-6-35ad012333ce>\u001b[0m in \u001b[0;36manalisis_de_cilindros\u001b[1;34m(lista_archivo, archivo, fps, cosa)\u001b[0m\n\u001b[0;32m      9\u001b[0m     \u001b[0ma\u001b[0m\u001b[1;33m,\u001b[0m \u001b[0mb\u001b[0m\u001b[1;33m,\u001b[0m \u001b[0mn\u001b[0m \u001b[1;33m=\u001b[0m \u001b[0mcosa\u001b[0m\u001b[1;33m[\u001b[0m\u001b[1;36m0\u001b[0m\u001b[1;33m]\u001b[0m\u001b[1;33m,\u001b[0m \u001b[0mcosa\u001b[0m\u001b[1;33m[\u001b[0m\u001b[1;36m1\u001b[0m\u001b[1;33m]\u001b[0m\u001b[1;33m,\u001b[0m \u001b[0mcosa\u001b[0m\u001b[1;33m[\u001b[0m\u001b[1;36m2\u001b[0m\u001b[1;33m]\u001b[0m\u001b[1;33m\u001b[0m\u001b[0m\n\u001b[0;32m     10\u001b[0m \u001b[1;33m\u001b[0m\u001b[0m\n\u001b[1;32m---> 11\u001b[1;33m     \u001b[0mLt\u001b[0m\u001b[1;33m,\u001b[0m \u001b[0mLc\u001b[0m\u001b[1;33m,\u001b[0m \u001b[0mDc\u001b[0m\u001b[1;33m,\u001b[0m \u001b[0mDM\u001b[0m\u001b[1;33m,\u001b[0m \u001b[0mDm\u001b[0m \u001b[1;33m=\u001b[0m \u001b[0mfloat\u001b[0m\u001b[1;33m(\u001b[0m\u001b[0marchivo\u001b[0m\u001b[1;33m[\u001b[0m\u001b[1;36m9\u001b[0m\u001b[1;33m:\u001b[0m\u001b[1;36m11\u001b[0m\u001b[1;33m]\u001b[0m\u001b[1;33m+\u001b[0m\u001b[1;34m'.'\u001b[0m\u001b[1;33m+\u001b[0m\u001b[0marchivo\u001b[0m\u001b[1;33m[\u001b[0m\u001b[1;36m12\u001b[0m\u001b[1;33m:\u001b[0m\u001b[1;36m13\u001b[0m\u001b[1;33m]\u001b[0m\u001b[1;33m)\u001b[0m\u001b[1;33m,\u001b[0m \u001b[0mfloat\u001b[0m\u001b[1;33m(\u001b[0m\u001b[0marchivo\u001b[0m\u001b[1;33m[\u001b[0m\u001b[1;36m19\u001b[0m\u001b[1;33m:\u001b[0m\u001b[1;36m21\u001b[0m\u001b[1;33m]\u001b[0m\u001b[1;33m+\u001b[0m\u001b[1;34m'.'\u001b[0m\u001b[1;33m+\u001b[0m\u001b[0marchivo\u001b[0m\u001b[1;33m[\u001b[0m\u001b[1;36m22\u001b[0m\u001b[1;33m:\u001b[0m\u001b[1;36m23\u001b[0m\u001b[1;33m]\u001b[0m\u001b[1;33m)\u001b[0m\u001b[1;33m,\u001b[0m \u001b[0mfloat\u001b[0m\u001b[1;33m(\u001b[0m\u001b[0marchivo\u001b[0m\u001b[1;33m[\u001b[0m\u001b[1;36m27\u001b[0m\u001b[1;33m:\u001b[0m\u001b[1;36m28\u001b[0m\u001b[1;33m]\u001b[0m\u001b[1;33m+\u001b[0m\u001b[1;34m'.'\u001b[0m\u001b[1;33m+\u001b[0m\u001b[0marchivo\u001b[0m\u001b[1;33m[\u001b[0m\u001b[1;36m29\u001b[0m\u001b[1;33m:\u001b[0m\u001b[1;36m31\u001b[0m\u001b[1;33m]\u001b[0m\u001b[1;33m)\u001b[0m\u001b[1;33m,\u001b[0m \u001b[0mfloat\u001b[0m\u001b[1;33m(\u001b[0m\u001b[0marchivo\u001b[0m\u001b[1;33m[\u001b[0m\u001b[1;36m34\u001b[0m\u001b[1;33m:\u001b[0m\u001b[1;36m35\u001b[0m\u001b[1;33m]\u001b[0m\u001b[1;33m+\u001b[0m\u001b[1;34m'.'\u001b[0m\u001b[1;33m+\u001b[0m\u001b[0marchivo\u001b[0m\u001b[1;33m[\u001b[0m\u001b[1;36m36\u001b[0m\u001b[1;33m:\u001b[0m\u001b[1;36m38\u001b[0m\u001b[1;33m]\u001b[0m\u001b[1;33m)\u001b[0m\u001b[1;33m,\u001b[0m \u001b[0mfloat\u001b[0m\u001b[1;33m(\u001b[0m\u001b[0marchivo\u001b[0m\u001b[1;33m[\u001b[0m\u001b[1;36m41\u001b[0m\u001b[1;33m:\u001b[0m\u001b[1;36m42\u001b[0m\u001b[1;33m]\u001b[0m\u001b[1;33m+\u001b[0m\u001b[1;34m'.'\u001b[0m\u001b[1;33m+\u001b[0m\u001b[0marchivo\u001b[0m\u001b[1;33m[\u001b[0m\u001b[1;36m43\u001b[0m\u001b[1;33m:\u001b[0m\u001b[1;36m45\u001b[0m\u001b[1;33m]\u001b[0m\u001b[1;33m)\u001b[0m\u001b[1;33m\u001b[0m\u001b[0m\n\u001b[0m\u001b[0;32m     12\u001b[0m \u001b[1;33m\u001b[0m\u001b[0m\n\u001b[0;32m     13\u001b[0m     \u001b[0mtiempo\u001b[0m \u001b[1;33m=\u001b[0m \u001b[1;33m[\u001b[0m\u001b[1;33m]\u001b[0m\u001b[1;33m\u001b[0m\u001b[0m\n",
      "\u001b[1;31mValueError\u001b[0m: could not convert string to float: 'Ci.C'"
     ]
    }
   ],
   "source": [
    "for i in lista_archivo[:-1]:\n",
    "    L, D, Vcm, Ty, TAng = analisis_de_cilindros(lista_archivo,i,49.9,[0,300,12])"
   ]
  },
  {
   "cell_type": "code",
   "execution_count": 8,
   "metadata": {},
   "outputs": [
    {
     "ename": "NameError",
     "evalue": "name 'archivo' is not defined",
     "output_type": "error",
     "traceback": [
      "\u001b[1;31m---------------------------------------------------------------------------\u001b[0m",
      "\u001b[1;31mNameError\u001b[0m                                 Traceback (most recent call last)",
      "\u001b[1;32m<ipython-input-8-5f0c356d07f5>\u001b[0m in \u001b[0;36m<module>\u001b[1;34m()\u001b[0m\n\u001b[1;32m----> 1\u001b[1;33m \u001b[1;32mwith\u001b[0m \u001b[0mopen\u001b[0m\u001b[1;33m(\u001b[0m\u001b[0marchivo\u001b[0m\u001b[1;33m,\u001b[0m \u001b[1;34m'rt'\u001b[0m\u001b[1;33m)\u001b[0m \u001b[1;32mas\u001b[0m \u001b[0mf\u001b[0m\u001b[1;33m:\u001b[0m\u001b[1;33m\u001b[0m\u001b[0m\n\u001b[0m\u001b[0;32m      2\u001b[0m         \u001b[0mreader\u001b[0m \u001b[1;33m=\u001b[0m \u001b[0mcsv\u001b[0m\u001b[1;33m.\u001b[0m\u001b[0mreader\u001b[0m\u001b[1;33m(\u001b[0m\u001b[0mf\u001b[0m\u001b[1;33m)\u001b[0m\u001b[1;33m\u001b[0m\u001b[0m\n\u001b[0;32m      3\u001b[0m         \u001b[0mdata\u001b[0m \u001b[1;33m=\u001b[0m \u001b[0mlist\u001b[0m\u001b[1;33m(\u001b[0m\u001b[0mreader\u001b[0m\u001b[1;33m)\u001b[0m\u001b[1;33m\u001b[0m\u001b[0m\n\u001b[0;32m      4\u001b[0m         \u001b[1;32mfor\u001b[0m \u001b[0mrow\u001b[0m \u001b[1;32min\u001b[0m \u001b[0mreader\u001b[0m\u001b[1;33m:\u001b[0m\u001b[1;33m\u001b[0m\u001b[0m\n\u001b[0;32m      5\u001b[0m             \u001b[0mprint\u001b[0m\u001b[1;33m(\u001b[0m\u001b[0mrow\u001b[0m\u001b[1;33m)\u001b[0m\u001b[1;33m\u001b[0m\u001b[0m\n",
      "\u001b[1;31mNameError\u001b[0m: name 'archivo' is not defined"
     ]
    }
   ],
   "source": [
    "with open(lista_archivo[], 'rt') as f:\n",
    "        reader = csv.reader(f)\n",
    "        data = list(reader)\n",
    "        for row in reader:\n",
    "            print(row)"
   ]
  },
  {
   "cell_type": "code",
   "execution_count": 9,
   "metadata": {},
   "outputs": [
    {
     "data": {
      "text/plain": [
       "['Analisis-CilCon-Mejorado.ipynb',\n",
       " 'Calibracion-Front-Back.xlsx',\n",
       " 'calibracion1.tif',\n",
       " 'calibracion2.tif',\n",
       " 'CilCon1.csv',\n",
       " 'CilCon10.csv',\n",
       " 'CilCon12.csv',\n",
       " 'CilCon13.csv',\n",
       " 'CilCon14.csv',\n",
       " 'CilCon15.csv',\n",
       " 'CilCon2.csv',\n",
       " 'CilCon3.csv',\n",
       " 'CilCon4.csv',\n",
       " 'CilCon5.csv',\n",
       " 'CilCon6.csv',\n",
       " 'CilCon7.csv',\n",
       " 'CilCon8.csv',\n",
       " 'CilCon9.csv',\n",
       " 'IMG_20190704_172220273.jpg',\n",
       " 'IMG_20190704_172223745.jpg',\n",
       " 'IMG_20190704_172227797.jpg']"
      ]
     },
     "execution_count": 9,
     "metadata": {},
     "output_type": "execute_result"
    }
   ],
   "source": []
  }
 ],
 "metadata": {
  "kernelspec": {
   "display_name": "Python 3",
   "language": "python",
   "name": "python3"
  },
  "language_info": {
   "codemirror_mode": {
    "name": "ipython",
    "version": 3
   },
   "file_extension": ".py",
   "mimetype": "text/x-python",
   "name": "python",
   "nbconvert_exporter": "python",
   "pygments_lexer": "ipython3",
   "version": "3.6.5"
  }
 },
 "nbformat": 4,
 "nbformat_minor": 2
}
