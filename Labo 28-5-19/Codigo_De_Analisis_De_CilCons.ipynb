{
 "cells": [
  {
   "cell_type": "code",
   "execution_count": 1,
   "metadata": {},
   "outputs": [],
   "source": [
    "import matplotlib.pylab as plt\n",
    "import numpy as np\n",
    "from scipy import stats\n",
    "import csv\n",
    "from scipy import signal\n",
    "import os.path \n",
    "from os import listdir\n",
    "from os.path import isfile, join"
   ]
  },
  {
   "cell_type": "code",
   "execution_count": 2,
   "metadata": {},
   "outputs": [],
   "source": [
    "#Funcion que hace una lista de los archivos de una carpeta\n",
    "def ls(ruta = '.'):\n",
    "    return [arch for arch in listdir(ruta) if isfile(join(ruta, arch))]\n",
    "#correr ls('.')"
   ]
  },
  {
   "cell_type": "code",
   "execution_count": 3,
   "metadata": {},
   "outputs": [],
   "source": [
    "lista_archivo = ls('.')"
   ]
  },
  {
   "cell_type": "code",
   "execution_count": 4,
   "metadata": {},
   "outputs": [],
   "source": [
    "def picosy(t,ym,nprc,n):\n",
    "    #Cuentas para hallar la velocidad del Ym\n",
    "    peakind = signal.find_peaks_cwt(ym, np.arange(1,10),noise_perc=nprc)\n",
    "    tpicos=[]\n",
    "    ypicos=[]\n",
    "    for j in peakind:\n",
    "        tpicos.append(t[j])\n",
    "        ypicos.append(ym[j])\n",
    "    \n",
    "    yperiod = []\n",
    "    for i in range(len(tpicos[tpicos.index(max(tpicos))-n:-1])):\n",
    "        yperiod.append(tpicos[tpicos.index(max(tpicos))-n+i+1]-tpicos[tpicos.index(max(tpicos))-n+i])\n",
    "    return tpicos, ypicos, np.mean(yperiod)"
   ]
  },
  {
   "cell_type": "code",
   "execution_count": 5,
   "metadata": {},
   "outputs": [],
   "source": [
    "def picosang(t,Ang,nprc,n):\n",
    "    peakind_Ang = signal.find_peaks_cwt(Ang, np.arange(1,10),noise_perc=nprc)\n",
    "    Ang_tpicos=[]\n",
    "    Ang_picos=[]\n",
    "    for j in peakind_Ang:\n",
    "        Ang_tpicos.append(t[j])\n",
    "        Ang_picos.append(Ang[j])\n",
    "\n",
    "    Periodo_Ang = []\n",
    "    for i in range(len(Ang_tpicos[Ang_tpicos.index(max(Ang_tpicos))-n:-1])-2):\n",
    "        Periodo_Ang.append(Ang_tpicos[Ang_tpicos.index(max(Ang_tpicos))-n+i+1]-Ang_tpicos[Ang_tpicos.index(max(Ang_tpicos))-n+i])\n",
    "    return Ang_tpicos, Ang_picos, np.mean(Periodo_Ang)"
   ]
  },
  {
   "cell_type": "code",
   "execution_count": 6,
   "metadata": {},
   "outputs": [],
   "source": [
    "def analisis_de_cilindros(lista_archivo,archivo,fps,cosa):\n",
    "    \n",
    "    with open(archivo, 'rt') as f:\n",
    "        reader = csv.reader(f)\n",
    "        data = list(reader)\n",
    "        for row in reader:\n",
    "            print(row)\n",
    "    \n",
    "    a, b, n = cosa[0], cosa[1], cosa[2]\n",
    "    \n",
    "    Lt, Lc, Dc, DM, Dm = float(archivo[9:11]+'.'+archivo[12:13]), float(archivo[19:21]+'.'+archivo[22:23]), float(archivo[27:28]+'.'+archivo[29:31]), float(archivo[34:35]+'.'+archivo[36:38]), float(archivo[41:42]+'.'+archivo[43:45])\n",
    "\n",
    "    tiempo = []\n",
    "    Xm = []\n",
    "    Ym = []\n",
    "    Ang = []\n",
    "    for i in data[1:]:\n",
    "        tiempo.append(float(i[0])/fps)\n",
    "        Xm.append(float(i[1]))\n",
    "        Ym.append(float(i[2]))\n",
    "        Ang.append(float(i[5]))\n",
    "              \n",
    "    #Correccion\n",
    "    tiempo = tiempo[a:b] \n",
    "    Xm = Xm[a:b]\n",
    "    Ym = Ym[a:b]\n",
    "    Ang = Ang[a:b]\n",
    "    \n",
    "    #Calculo de la velocidad de sedimentacion del cilindro al descender verticalmente por la celda (vel de x centro de masa)          \n",
    "    gradient, intercept, r_value, p_value, std_err = stats.linregress(tiempo,Xm)    \n",
    "\n",
    "    filty = savgol_filter(Ym, 51, 3)\n",
    "    tpicos, ypicos, Periodo_de_Y = picosy(tiempo,filty,10,n)\n",
    "    for i in range(len(tpicos)):\n",
    "        ypicos[i]=Ym[tpicos.index(tpicos[i])]\n",
    "\n",
    "    filtang = savgol_filter(Ang, 51, 3)\n",
    "    Ang_tpicos, Ang_picos, T_Ang = picosang(tiempo,filtang,10,n)\n",
    "    for i in range(len(Ang_tpicos)):\n",
    "        Ang_picos[i]=Ang[Ang_tpicos.index(Ang_tpicos[i])]\n",
    "    \n",
    "    plt.figure(lista_archivo.index(archivo),figsize=(15,5))\n",
    "    plt.subplot(1,3,1)\n",
    "    plt.plot(tiempo,Ym,label = 'L = '+str(Lc)+', D = '+str(Dc))\n",
    "    plt.plot(tpicos[tpicos.index(max(tpicos))-n:-1],ypicos[tpicos.index(max(tpicos))-n:-1],'r*')\n",
    "    plt.grid(b=True, which='major')\n",
    "    plt.subplot(1,3,2)\n",
    "    plt.plot(tiempo,Ang,label = 'L = '+str(Lc)+', D = '+str(Dc))\n",
    "    plt.plot(Ang_tpicos[Ang_tpicos.index(max(Ang_tpicos))-n:-1],Ang_picos[Ang_tpicos.index(max(Ang_tpicos))-n:-1],'r*')\n",
    "    plt.grid(b=True, which='major')\n",
    "    plt.subplot(1,3,3)\n",
    "    plt.plot(tiempo,Xm,label = 'L = '+str(Lc)+', D = '+str(Dc))\n",
    "    plt.grid(b=True, which='major')\n",
    "    plt.legend()\n",
    "    \n",
    "    #ERRORES\n",
    "    #tiempo\n",
    "#     errT = 1/fps\n",
    "    \n",
    "#     T4 = 0\n",
    "#     T12 = 0\n",
    "#     for i in yperiod:\n",
    "#         T4 = i**(-4)+T4\n",
    "#     for i in range(len(yperiod)-1):\n",
    "#         T12 = -2/((yperiod[i]*yperiod[i+1])**2) + T12\n",
    "#     errfy = (1/fps)*np.sqrt((T4+T12)/len(yperiod)) \n",
    "    \n",
    "#     T4 = 0\n",
    "#     T12 = 0\n",
    "#     for i in Periodo_Ang:\n",
    "#         T4 = i**(-4)+T4\n",
    "#     for i in range(len(Periodo_Ang)-1):\n",
    "#         T12 = -2/(Periodo_Ang[i]*Periodo_Ang[i+1]) + T12\n",
    "#     errfa = (1/fps)*np.sqrt((T4+T12)/len(Periodo_Ang)) \n",
    "    \n",
    "    return Lc, Dc, gradient, Periodo_de_Y, T_Ang  \n",
    "#     return L, D, gradient, std_err, Periodo_de_Y, errfy, T_Ang, errfa      "
   ]
  },
  {
   "cell_type": "code",
   "execution_count": 7,
   "metadata": {},
   "outputs": [
    {
     "data": {
      "text/plain": [
       "0"
      ]
     },
     "execution_count": 7,
     "metadata": {},
     "output_type": "execute_result"
    }
   ],
   "source": [
    "with open(lista_archivo[2], 'rt') as f:\n",
    "        reader = csv.reader(f)\n",
    "        data = list(reader)\n",
    "        for row in reader:\n",
    "            print(row)\n",
    "len(data)\n",
    "data[1].index('1')\n"
   ]
  },
  {
   "cell_type": "code",
   "execution_count": 8,
   "metadata": {},
   "outputs": [
    {
     "ename": "NameError",
     "evalue": "name 'savgol_filter' is not defined",
     "output_type": "error",
     "traceback": [
      "\u001b[1;31m---------------------------------------------------------------------------\u001b[0m",
      "\u001b[1;31mNameError\u001b[0m                                 Traceback (most recent call last)",
      "\u001b[1;32m<ipython-input-8-47c73121e0c7>\u001b[0m in \u001b[0;36m<module>\u001b[1;34m()\u001b[0m\n\u001b[1;32m----> 1\u001b[1;33m \u001b[0mL\u001b[0m\u001b[1;33m,\u001b[0m \u001b[0mD\u001b[0m\u001b[1;33m,\u001b[0m \u001b[0mVcm\u001b[0m\u001b[1;33m,\u001b[0m \u001b[0mTy\u001b[0m\u001b[1;33m,\u001b[0m \u001b[0mTAng\u001b[0m \u001b[1;33m=\u001b[0m \u001b[0manalisis_de_cilindros\u001b[0m\u001b[1;33m(\u001b[0m\u001b[0mlista_archivo\u001b[0m\u001b[1;33m,\u001b[0m\u001b[0mlista_archivo\u001b[0m\u001b[1;33m[\u001b[0m\u001b[1;36m7\u001b[0m\u001b[1;33m]\u001b[0m\u001b[1;33m,\u001b[0m\u001b[1;36m49.9\u001b[0m\u001b[1;33m,\u001b[0m\u001b[1;33m[\u001b[0m\u001b[1;36m0\u001b[0m\u001b[1;33m,\u001b[0m\u001b[1;36m300\u001b[0m\u001b[1;33m,\u001b[0m\u001b[1;36m12\u001b[0m\u001b[1;33m]\u001b[0m\u001b[1;33m)\u001b[0m\u001b[1;33m\u001b[0m\u001b[0m\n\u001b[0m",
      "\u001b[1;32m<ipython-input-6-e0c60510462c>\u001b[0m in \u001b[0;36manalisis_de_cilindros\u001b[1;34m(lista_archivo, archivo, fps, cosa)\u001b[0m\n\u001b[0;32m     30\u001b[0m     \u001b[0mgradient\u001b[0m\u001b[1;33m,\u001b[0m \u001b[0mintercept\u001b[0m\u001b[1;33m,\u001b[0m \u001b[0mr_value\u001b[0m\u001b[1;33m,\u001b[0m \u001b[0mp_value\u001b[0m\u001b[1;33m,\u001b[0m \u001b[0mstd_err\u001b[0m \u001b[1;33m=\u001b[0m \u001b[0mstats\u001b[0m\u001b[1;33m.\u001b[0m\u001b[0mlinregress\u001b[0m\u001b[1;33m(\u001b[0m\u001b[0mtiempo\u001b[0m\u001b[1;33m,\u001b[0m\u001b[0mXm\u001b[0m\u001b[1;33m)\u001b[0m\u001b[1;33m\u001b[0m\u001b[0m\n\u001b[0;32m     31\u001b[0m \u001b[1;33m\u001b[0m\u001b[0m\n\u001b[1;32m---> 32\u001b[1;33m     \u001b[0mfilty\u001b[0m \u001b[1;33m=\u001b[0m \u001b[0msavgol_filter\u001b[0m\u001b[1;33m(\u001b[0m\u001b[0mYm\u001b[0m\u001b[1;33m,\u001b[0m \u001b[1;36m51\u001b[0m\u001b[1;33m,\u001b[0m \u001b[1;36m3\u001b[0m\u001b[1;33m)\u001b[0m\u001b[1;33m\u001b[0m\u001b[0m\n\u001b[0m\u001b[0;32m     33\u001b[0m     \u001b[0mtpicos\u001b[0m\u001b[1;33m,\u001b[0m \u001b[0mypicos\u001b[0m\u001b[1;33m,\u001b[0m \u001b[0mPeriodo_de_Y\u001b[0m \u001b[1;33m=\u001b[0m \u001b[0mpicosy\u001b[0m\u001b[1;33m(\u001b[0m\u001b[0mtiempo\u001b[0m\u001b[1;33m,\u001b[0m\u001b[0mfilty\u001b[0m\u001b[1;33m,\u001b[0m\u001b[1;36m10\u001b[0m\u001b[1;33m,\u001b[0m\u001b[0mn\u001b[0m\u001b[1;33m)\u001b[0m\u001b[1;33m\u001b[0m\u001b[0m\n\u001b[0;32m     34\u001b[0m     \u001b[1;32mfor\u001b[0m \u001b[0mi\u001b[0m \u001b[1;32min\u001b[0m \u001b[0mrange\u001b[0m\u001b[1;33m(\u001b[0m\u001b[0mlen\u001b[0m\u001b[1;33m(\u001b[0m\u001b[0mtpicos\u001b[0m\u001b[1;33m)\u001b[0m\u001b[1;33m)\u001b[0m\u001b[1;33m:\u001b[0m\u001b[1;33m\u001b[0m\u001b[0m\n",
      "\u001b[1;31mNameError\u001b[0m: name 'savgol_filter' is not defined"
     ]
    }
   ],
   "source": [
    "L, D, Vcm, Ty, TAng = analisis_de_cilindros(lista_archivo,lista_archivo[7],49.9,[0,300,12])"
   ]
  },
  {
   "cell_type": "code",
   "execution_count": 8,
   "metadata": {},
   "outputs": [],
   "source": [
    "def picosy(t,ym,nprc):\n",
    "    #Cuentas para hallar la velocidad del Ym\n",
    "    peakind = signal.find_peaks_cwt(ym, np.arange(1,10),noise_perc=nprc)\n",
    "    tpicos=[]\n",
    "    ypicos=[]\n",
    "    for j in peakind:\n",
    "        tpicos.append(t[j])\n",
    "        ypicos.append(ym[j])\n",
    "    \n",
    "    yperiod = []\n",
    "    for i in range(len(tpicos[tpicos.index(max(tpicos)):-1])):\n",
    "        yperiod.append(tpicos[tpicos.index(max(tpicos))+i+1]-tpicos[tpicos.index(max(tpicos))+i])\n",
    "    return tpicos, ypicos, np.mean(yperiod)"
   ]
  },
  {
   "cell_type": "code",
   "execution_count": 9,
   "metadata": {},
   "outputs": [],
   "source": [
    "from scipy.signal import savgol_filter\n",
    "def determine_lambda_flat(dset):\n",
    "    matriz = dset[:,:]\n",
    "    matriz_flat= matriz.flatten()\n",
    "    z= hilbert(matriz_flat)\n",
    "    inst_phase = np.unwrap(np.angle(z))\n",
    "    regenerated_carrier = np.cos(inst_phase)\n",
    "    yhat = savgol_filter(regenerated_carrier, 51, 3)\n",
    "    peaks, _ = find_peaks(yhat, height=0)\n",
    "    x_yhat = np.linspace(0,x_final_flat,len(yhat))\n",
    "    maxs = x_yhat[peaks]\n",
    "    difs = np.diff(maxs)\n",
    "    long_de_onda=np.mean(difs)\n",
    "    std_long_de_onda=np.std(difs)\n",
    "    return long_de_onda, std_long_de_onda"
   ]
  },
  {
   "cell_type": "code",
   "execution_count": 10,
   "metadata": {},
   "outputs": [
    {
     "data": {
      "text/plain": [
       "[<matplotlib.lines.Line2D at 0x12445363208>]"
      ]
     },
     "execution_count": 10,
     "metadata": {},
     "output_type": "execute_result"
    },
    {
     "data": {
      "image/png": "[encoded data removed]",
      "text/plain": [
       "<Figure size 432x288 with 1 Axes>"
      ]
     },
     "metadata": {},
     "output_type": "display_data"
    }
   ],
   "source": [
    "tiempo = []\n",
    "fps=49.9\n",
    "Xm = []\n",
    "Ym = []\n",
    "Ang = []\n",
    "for i in data[1:]:\n",
    "    tiempo.append(float(i[0])/fps)\n",
    "    Xm.append(float(i[1]))\n",
    "    Ym.append(float(i[2]))\n",
    "    Ang.append(float(i[5]))\n",
    "filt = savgol_filter(Ang[:200], 51, 3)\n",
    "plt.plot(tiempo[:200],Ang[:200])\n",
    "plt.plot(tiempo[:200],filt)"
   ]
  },
  {
   "cell_type": "code",
   "execution_count": 11,
   "metadata": {},
   "outputs": [
    {
     "name": "stderr",
     "output_type": "stream",
     "text": [
      "C:\\ProgramData\\Anaconda3\\lib\\site-packages\\numpy\\core\\fromnumeric.py:2957: RuntimeWarning: Mean of empty slice.\n",
      "  out=out, **kwargs)\n",
      "C:\\ProgramData\\Anaconda3\\lib\\site-packages\\numpy\\core\\_methods.py:80: RuntimeWarning: invalid value encountered in double_scalars\n",
      "  ret = ret.dtype.type(ret / rcount)\n"
     ]
    },
    {
     "data": {
      "text/plain": [
       "[<matplotlib.lines.Line2D at 0x124452bffd0>]"
      ]
     },
     "execution_count": 11,
     "metadata": {},
     "output_type": "execute_result"
    },
    {
     "data": {
      "image/png": "[encoded data removed]",
      "text/plain": [
       "<Figure size 432x288 with 1 Axes>"
      ]
     },
     "metadata": {},
     "output_type": "display_data"
    }
   ],
   "source": [
    "tiempo = []\n",
    "fps=49.9\n",
    "Xm = []\n",
    "Ym = []\n",
    "Ang = []\n",
    "for i in data[1:300]:\n",
    "    tiempo.append(float(i[0])/fps)\n",
    "    Xm.append(float(i[1]))\n",
    "    Ym.append(float(i[2]))\n",
    "    Ang.append(float(i[5]))\n",
    "r1, r2, ty = picosy(tiempo,Ym,100)\n",
    "\n",
    "plt.plot(tiempo,Ym)\n",
    "\n",
    "plt.plot(r1,r2,'*r')"
   ]
  },
  {
   "cell_type": "code",
   "execution_count": null,
   "metadata": {},
   "outputs": [],
   "source": []
  },
  {
   "cell_type": "code",
   "execution_count": null,
   "metadata": {},
   "outputs": [],
   "source": []
  }
 ],
 "metadata": {
  "kernelspec": {
   "display_name": "Python 3",
   "language": "python",
   "name": "python3"
  },
  "language_info": {
   "codemirror_mode": {
    "name": "ipython",
    "version": 3
   },
   "file_extension": ".py",
   "mimetype": "text/x-python",
   "name": "python",
   "nbconvert_exporter": "python",
   "pygments_lexer": "ipython3",
   "version": "3.6.5"
  }
 },
 "nbformat": 4,
 "nbformat_minor": 2
}
