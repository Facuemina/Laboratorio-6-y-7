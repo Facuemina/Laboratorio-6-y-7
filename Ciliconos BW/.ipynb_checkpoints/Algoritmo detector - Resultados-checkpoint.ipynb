{
 "cells": [
  {
   "cell_type": "code",
   "execution_count": 1,
   "metadata": {},
   "outputs": [],
   "source": [
    "import numpy as np\n",
    "from PIL import Image\n",
    "import matplotlib.pylab as plt\n",
    "from scipy import stats"
   ]
  },
  {
   "cell_type": "code",
   "execution_count": 2,
   "metadata": {},
   "outputs": [],
   "source": [
    "Calibracion = 81.9010"
   ]
  },
  {
   "cell_type": "code",
   "execution_count": 3,
   "metadata": {},
   "outputs": [],
   "source": [
    "def variables(matrix,Cal):\n",
    "    x=[]\n",
    "    y=[]\n",
    "    L_filas = len(matrix[:,0])\n",
    "    L_columnas = len(matrix[0,:])\n",
    "    for i in range(L_filas):\n",
    "        for j in range(L_columnas):\n",
    "            if matrix[i,j]==255:\n",
    "                x.append(j)\n",
    "                y.append(L_filas-1-i)\n",
    "    x=np.asarray(x)/Cal\n",
    "    y=np.asarray(y)/Cal\n",
    "    grad, inter, r_value, p_value, std_err = stats.linregress(x,y)\n",
    "    return x, y, grad"
   ]
  },
  {
   "cell_type": "code",
   "execution_count": 4,
   "metadata": {},
   "outputs": [],
   "source": [
    "def contorno(matrix,Cal):\n",
    "    XM=[]\n",
    "    Xm=[]\n",
    "    YM=[]\n",
    "    Ym=[]\n",
    "    L_filas = len(matrix[:,0])\n",
    "    L_columnas = len(matrix[0,:])\n",
    "    #Maximos\n",
    "    for j in range(L_columnas):\n",
    "        for i in range(L_filas):\n",
    "            if matrix[i,j]==255:\n",
    "                XM.append(j)\n",
    "                YM.append(L_filas-1-i)\n",
    "                break\n",
    "    #Minimos            \n",
    "    for j in range(L_columnas):\n",
    "        for i in range(L_filas):\n",
    "            if matrix[L_filas-1-i,j]==255:\n",
    "                Xm.append(j)\n",
    "                Ym.append(i)\n",
    "                break\n",
    "\n",
    "    XM=np.asarray(XM)/Cal\n",
    "    YM=np.asarray(YM)/Cal\n",
    "    Xm=np.asarray(Xm)/Cal\n",
    "    Ym=np.asarray(Ym)/Cal\n",
    "    return XM, YM, Xm, Ym"
   ]
  },
  {
   "cell_type": "code",
   "execution_count": 7,
   "metadata": {},
   "outputs": [],
   "source": [
    "def diametro_y_altura(archivo,Cal):\n",
    "    imagen = Image.open(archivo)\n",
    "    matrix = np.array(imagen)\n",
    "    x, y, grad = variables(matrix,1)\n",
    "    imagen_rotada = imagen.rotate(-np.arctan(grad)*180/np.pi, expand=True)\n",
    "    matrix_rotada = np.array(imagen_rotada)\n",
    "    xM, yM, xm, ym = contorno(matrix_rotada,Cal)\n",
    "    diametros = yM-ym\n",
    "    D = np.mean(diametros)\n",
    "    s = np.sqrt(np.var(diametros))\n",
    "    D_filtrado = []\n",
    "    for i in diametros:\n",
    "        if i<D+2*s and i>D-2*s:\n",
    "            D_filtrado.append(i)\n",
    "    D_prom = np.mean(D_filtrado)\n",
    "    err = np.sqrt(np.var(D_filtrado))\n",
    "    \n",
    "    plt.figure()\n",
    "    plt.plot(xM,yM)\n",
    "    plt.plot(xm,ym)\n",
    "\n",
    "    plt.figure()\n",
    "    plt.plot(xM,diametros)\n",
    "    plt.plot(xM,np.ones_like(xM)*D,'m')\n",
    "    plt.plot(xM,np.ones_like(xM)*D_prom,'r')\n",
    "    plt.plot(xM,np.ones_like(xM)*(D-2*s),'g')\n",
    "    plt.plot(xM,np.ones_like(xM)*(D+2*s),'g')\n",
    "    plt.grid()\n",
    "    plt.ylim([D-2*s,D+2*s])\n",
    "\n",
    "#ALTURA\n",
    "    matrix_transp = np.matrix.transpose(matrix_rotada)\n",
    "    xMtr, yMtr, xmtr, ymtr = contorno(matrix_transp,Cal)\n",
    "    longitudes = yMtr-ymtr\n",
    "    L = np.mean(longitudes)\n",
    "    sL = np.sqrt(np.var(longitudes))\n",
    "    L_filtrado = []\n",
    "    for i in longitudes:\n",
    "        if i<L+2*sL and i>L-2*sL:\n",
    "            L_filtrado.append(i)\n",
    "    L_prom = np.mean(L_filtrado)\n",
    "    errL = np.sqrt(np.var(L_filtrado))\n",
    "\n",
    "    plt.figure()\n",
    "    plt.plot(xMtr,longitudes)\n",
    "    plt.plot(xMtr,np.ones_like(xMtr)*L,'m')\n",
    "    plt.plot(xMtr,np.ones_like(xMtr)*L_prom,'r')\n",
    "    plt.plot(xMtr,np.ones_like(xMtr)*(L-2*sL),'g')\n",
    "    plt.plot(xMtr,np.ones_like(xMtr)*(L+2*sL),'g')\n",
    "    plt.ylim([L-sL,L+sL])\n",
    "    plt.grid()\n",
    "\n",
    "    return D_prom, err, L_prom, errL"
   ]
  },
  {
   "cell_type": "code",
   "execution_count": null,
   "metadata": {},
   "outputs": [],
   "source": [
    "diametro_y_altura('CilCon5.png',Calibracion)"
   ]
  },
  {
   "cell_type": "code",
   "execution_count": 44,
   "metadata": {},
   "outputs": [
    {
     "data": {
      "text/plain": [
       "(1.689843018462434, 0.07086354639527392, 14.30760587679836, 1.9290084290944942)"
      ]
     },
     "execution_count": 44,
     "metadata": {},
     "output_type": "execute_result"
    }
   ],
   "source": [
    "diametro_y_altura('CilindroBW62.png',Calibracion)"
   ]
  }
 ],
 "metadata": {
  "kernelspec": {
   "display_name": "Python 3",
   "language": "python",
   "name": "python3"
  },
  "language_info": {
   "codemirror_mode": {
    "name": "ipython",
    "version": 3
   },
   "file_extension": ".py",
   "mimetype": "text/x-python",
   "name": "python",
   "nbconvert_exporter": "python",
   "pygments_lexer": "ipython3",
   "version": "3.6.5"
  }
 },
 "nbformat": 4,
 "nbformat_minor": 2
}
